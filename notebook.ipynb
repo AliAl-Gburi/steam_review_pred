{
 "cells": [
  {
   "cell_type": "code",
   "execution_count": 1,
   "metadata": {},
   "outputs": [],
   "source": [
    "import tensorflow as tf\n",
    "import pandas as pd\n",
    "import numpy as np\n",
    "\n",
    "from sklearn.preprocessing import MultiLabelBinarizer\n",
    "from sklearn.utils import shuffle\n",
    "from tensorflow.keras.layers import Dense\n",
    "from tensorflow.keras.models import Sequential\n"
   ]
  },
  {
   "cell_type": "code",
   "execution_count": 2,
   "metadata": {},
   "outputs": [],
   "source": [
    "data = pd.read_csv(\"dataset.csv\")"
   ]
  },
  {
   "cell_type": "code",
   "execution_count": 3,
   "metadata": {},
   "outputs": [],
   "source": [
    "data = shuffle(data, random_state=22)"
   ]
  },
  {
   "cell_type": "code",
   "execution_count": 4,
   "metadata": {},
   "outputs": [],
   "source": [
    "data = data.drop(columns=['app_id', 'app_name', 'review_votes'])\n"
   ]
  },
  {
   "cell_type": "code",
   "execution_count": 5,
   "metadata": {},
   "outputs": [
    {
     "name": "stdout",
     "output_type": "stream",
     "text": [
      "Train size: 5133684\n",
      "Test size: 1283422 \n"
     ]
    }
   ],
   "source": [
    "train_size = int(len(data) * .8)\n",
    "print(f'Train size: {train_size}')\n",
    "print(f'Test size: {len(data) - train_size} ')"
   ]
  },
  {
   "cell_type": "code",
   "execution_count": 6,
   "metadata": {},
   "outputs": [],
   "source": [
    "data['review_score'] = data['review_score'].apply(lambda x : 0 if x < 0 else x)\n"
   ]
  },
  {
   "cell_type": "code",
   "execution_count": 7,
   "metadata": {},
   "outputs": [],
   "source": [
    "from tensorflow.keras.preprocessing import text\n",
    "\n",
    "class TextPreprocessor(object):\n",
    "    def __init__(self, vocab_size):\n",
    "        self._vocab_size = vocab_size\n",
    "        self._tokenizer = None\n",
    "\n",
    "    def create_tokenizer(self, text_list):\n",
    "        tokenizer = text.Tokenizer(num_words=self._vocab_size)\n",
    "        tokenizer.fit_on_texts(text_list)\n",
    "        self._tokenizer = tokenizer\n",
    "\n",
    "    def transform_text(self, text_list):\n",
    "        text_matrix = self._tokenizer.texts_to_matrix(text_list)\n",
    "        return text_matrix\n",
    "\n",
    "\n",
    "train_rv = data['review_text'].values[:train_size]\n",
    "test_rv = data['review_text'].values[train_size:]\n",
    "\n",
    "\n",
    "VOCAB_SIZE = 400\n",
    "\n",
    "processor = TextPreprocessor(VOCAB_SIZE)\n",
    "for i in range(len(train_rv)):\n",
    "    train_rv[i] = str(train_rv[i])\n",
    "for i in range(len(test_rv)):\n",
    "    test_rv[i] = str(test_rv[i])\n",
    "processor.create_tokenizer(train_rv)\n",
    "\n",
    "\n",
    "body_train = processor.transform_text(train_rv)\n",
    "body_test = processor.transform_text(test_rv)"
   ]
  },
  {
   "cell_type": "code",
   "execution_count": 8,
   "metadata": {},
   "outputs": [
    {
     "data": {
      "text/plain": [
       "400"
      ]
     },
     "execution_count": 8,
     "metadata": {},
     "output_type": "execute_result"
    }
   ],
   "source": [
    "len(body_train[0])"
   ]
  },
  {
   "cell_type": "code",
   "execution_count": 9,
   "metadata": {},
   "outputs": [],
   "source": [
    "import pickle\n",
    "with open('./processor_state.pkl', 'wb') as f:\n",
    "    pickle.dump(processor, f)"
   ]
  },
  {
   "cell_type": "code",
   "execution_count": 10,
   "metadata": {},
   "outputs": [
    {
     "name": "stdout",
     "output_type": "stream",
     "text": [
      "Model: \"sequential\"\n",
      "_________________________________________________________________\n",
      " Layer (type)                Output Shape              Param #   \n",
      "=================================================================\n",
      " dense (Dense)               (None, 50)                20050     \n",
      "                                                                 \n",
      " dense_1 (Dense)             (None, 25)                1275      \n",
      "                                                                 \n",
      " dense_2 (Dense)             (None, 1)                 26        \n",
      "                                                                 \n",
      "=================================================================\n",
      "Total params: 21,351\n",
      "Trainable params: 21,351\n",
      "Non-trainable params: 0\n",
      "_________________________________________________________________\n"
     ]
    }
   ],
   "source": [
    "def create_model(vocab_size):\n",
    "    model = Sequential()\n",
    "    model.add(Dense(50, input_shape=(vocab_size,), activation='relu'))\n",
    "    model.add(Dense(25, activation='relu'))\n",
    "    model.add(Dense(1, activation='sigmoid'))\n",
    "\n",
    "    model.compile(loss='binary_crossentropy', optimizer='adam', metrics=['accuracy'])\n",
    "    return model\n",
    "\n",
    "model = create_model(VOCAB_SIZE)\n",
    "model.summary()"
   ]
  },
  {
   "cell_type": "code",
   "execution_count": 11,
   "metadata": {},
   "outputs": [
    {
     "name": "stderr",
     "output_type": "stream",
     "text": [
      "C:\\Users\\aliam\\AppData\\Local\\Temp\\ipykernel_10500\\412868314.py:1: FutureWarning: The behavior of `series[i:j]` with an integer-dtype index is deprecated. In a future version, this will be treated as *label-based* indexing, consistent with e.g. `series[i]` lookups. To retain the old behavior, use `series.iloc[i:j]`. To get the future behavior, use `series.loc[i:j]`.\n",
      "  model.fit(body_train, data['review_score'][:train_size].values, epochs=3, batch_size=128, validation_split=0.1)\n"
     ]
    },
    {
     "name": "stdout",
     "output_type": "stream",
     "text": [
      "Epoch 1/3\n",
      "36097/36097 [==============================] - 57s 2ms/step - loss: 0.3311 - accuracy: 0.8606 - val_loss: 0.3253 - val_accuracy: 0.8635\n",
      "Epoch 2/3\n",
      "36097/36097 [==============================] - 41s 1ms/step - loss: 0.3211 - accuracy: 0.8652 - val_loss: 0.3223 - val_accuracy: 0.8650\n",
      "Epoch 3/3\n",
      "36097/36097 [==============================] - 41s 1ms/step - loss: 0.3186 - accuracy: 0.8663 - val_loss: 0.3220 - val_accuracy: 0.8646\n"
     ]
    },
    {
     "data": {
      "text/plain": [
       "<keras.callbacks.History at 0x16f86a73910>"
      ]
     },
     "execution_count": 11,
     "metadata": {},
     "output_type": "execute_result"
    }
   ],
   "source": [
    "\n",
    "\n",
    "\n",
    "model.fit(body_train, data['review_score'][:train_size].values, epochs=3, batch_size=128, validation_split=0.1)\n",
    "\n",
    "\n"
   ]
  },
  {
   "cell_type": "code",
   "execution_count": 12,
   "metadata": {},
   "outputs": [
    {
     "name": "stderr",
     "output_type": "stream",
     "text": [
      "C:\\Users\\aliam\\AppData\\Local\\Temp\\ipykernel_10500\\3173960158.py:1: FutureWarning: The behavior of `series[i:j]` with an integer-dtype index is deprecated. In a future version, this will be treated as *label-based* indexing, consistent with e.g. `series[i]` lookups. To retain the old behavior, use `series.iloc[i:j]`. To get the future behavior, use `series.loc[i:j]`.\n",
      "  model.evaluate(body_test, data['review_score'][train_size:].values, batch_size=128)\n"
     ]
    },
    {
     "name": "stdout",
     "output_type": "stream",
     "text": [
      "10027/10027 [==============================] - 10s 943us/step - loss: 0.3205 - accuracy: 0.8653\n"
     ]
    },
    {
     "data": {
      "text/plain": [
       "[0.32045960426330566, 0.8652610182762146]"
      ]
     },
     "execution_count": 12,
     "metadata": {},
     "output_type": "execute_result"
    }
   ],
   "source": [
    "model.evaluate(body_test, data['review_score'][train_size:].values, batch_size=128)"
   ]
  },
  {
   "cell_type": "code",
   "execution_count": null,
   "metadata": {},
   "outputs": [],
   "source": [
    "model.save('steam_review_predictor.h5')"
   ]
  }
 ],
 "metadata": {
  "kernelspec": {
   "display_name": "Python 3.10.4 64-bit",
   "language": "python",
   "name": "python3"
  },
  "language_info": {
   "codemirror_mode": {
    "name": "ipython",
    "version": 3
   },
   "file_extension": ".py",
   "mimetype": "text/x-python",
   "name": "python",
   "nbconvert_exporter": "python",
   "pygments_lexer": "ipython3",
   "version": "3.10.4"
  },
  "orig_nbformat": 4,
  "vscode": {
   "interpreter": {
    "hash": "12f3aa624fb2490c4c188a1493baf2a2d7ce3cc84becd397b09f2b386b8a099e"
   }
  }
 },
 "nbformat": 4,
 "nbformat_minor": 2
}
